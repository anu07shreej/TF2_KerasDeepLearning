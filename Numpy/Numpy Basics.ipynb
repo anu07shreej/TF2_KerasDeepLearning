{
 "cells": [
  {
   "cell_type": "markdown",
   "id": "53b11675",
   "metadata": {},
   "source": [
    "### Reading Docstring in Jupyter Notebooks: Shift + Tab"
   ]
  },
  {
   "cell_type": "markdown",
   "id": "1eae6b49",
   "metadata": {},
   "source": [
    "# Video 6"
   ]
  },
  {
   "cell_type": "code",
   "execution_count": 1,
   "id": "4ce6d768",
   "metadata": {},
   "outputs": [],
   "source": [
    "#import\n",
    "import numpy as np"
   ]
  },
  {
   "cell_type": "code",
   "execution_count": 2,
   "id": "790a8891",
   "metadata": {},
   "outputs": [],
   "source": [
    "#create numpy arrays\n",
    "np_arr1 = np.array([1,2,3])"
   ]
  },
  {
   "cell_type": "code",
   "execution_count": 3,
   "id": "814aca61",
   "metadata": {},
   "outputs": [],
   "source": [
    "np_arr2 = np.array([[1,2,3],[2,3,4]])"
   ]
  },
  {
   "cell_type": "code",
   "execution_count": 6,
   "id": "6b2f361e",
   "metadata": {},
   "outputs": [
    {
     "data": {
      "text/plain": [
       "array([2.  , 2.25, 2.5 , 2.75, 3.  , 3.25, 3.5 , 3.75, 4.  , 4.25, 4.5 ,\n",
       "       4.75, 5.  , 5.25, 5.5 , 5.75, 6.  , 6.25, 6.5 , 6.75, 7.  , 7.25,\n",
       "       7.5 , 7.75, 8.  , 8.25, 8.5 , 8.75])"
      ]
     },
     "execution_count": 6,
     "metadata": {},
     "output_type": "execute_result"
    }
   ],
   "source": [
    "#arange funtion\n",
    "#Press Shift+Tab to get the help/argument list for the fucntion\n",
    "np_arr3 = np.arange(2.0,9.0,0.25)\n",
    "np_arr3"
   ]
  },
  {
   "cell_type": "code",
   "execution_count": 7,
   "id": "1068a9a5",
   "metadata": {},
   "outputs": [],
   "source": [
    "#zeros/ones\n",
    "np_arr4 = np.zeros((2,3))\n",
    "np_arr5 = np.ones((1,4))"
   ]
  },
  {
   "cell_type": "code",
   "execution_count": 13,
   "id": "748f7b8d",
   "metadata": {},
   "outputs": [
    {
     "data": {
      "text/plain": [
       "array([2., 3., 4., 5., 6., 7., 8., 9.])"
      ]
     },
     "execution_count": 13,
     "metadata": {},
     "output_type": "execute_result"
    }
   ],
   "source": [
    "#linspace : differs from arange in that the start,end point arg is same but the third param is no of elements in between\n",
    "#includes both the stsrat and end point given in the argument\n",
    "np.linspace(2.0,9.0,8)"
   ]
  },
  {
   "cell_type": "code",
   "execution_count": 16,
   "id": "c35d5b95",
   "metadata": {},
   "outputs": [
    {
     "data": {
      "text/plain": [
       "array([[1., 0., 0.],\n",
       "       [0., 1., 0.],\n",
       "       [0., 0., 1.]])"
      ]
     },
     "execution_count": 16,
     "metadata": {},
     "output_type": "execute_result"
    }
   ],
   "source": [
    "#identity matrix\n",
    "np.eye(3)"
   ]
  },
  {
   "cell_type": "code",
   "execution_count": 20,
   "id": "0ead65e5",
   "metadata": {},
   "outputs": [
    {
     "data": {
      "text/plain": [
       "array([[0.8895164 , 0.43885577, 0.8111895 ],\n",
       "       [0.71069241, 0.18485897, 0.83507763]])"
      ]
     },
     "execution_count": 20,
     "metadata": {},
     "output_type": "execute_result"
    }
   ],
   "source": [
    "#random arrays\n",
    "np.random.rand(2,3)  #array of \"m X n\" random elements from a uniform distribution between 0 and 1"
   ]
  },
  {
   "cell_type": "code",
   "execution_count": 23,
   "id": "8b987545",
   "metadata": {},
   "outputs": [
    {
     "data": {
      "text/plain": [
       "array([[ 1.86580556,  1.13657473,  0.05947685],\n",
       "       [-0.57070417, -0.36449282, -0.51437619]])"
      ]
     },
     "execution_count": 23,
     "metadata": {},
     "output_type": "execute_result"
    }
   ],
   "source": [
    "np.random.randn(2,3)  #from a normal distribution with mean 1 and variance 1"
   ]
  },
  {
   "cell_type": "code",
   "execution_count": 26,
   "id": "29046c79",
   "metadata": {},
   "outputs": [
    {
     "data": {
      "text/plain": [
       "array([[5, 8],\n",
       "       [5, 3]])"
      ]
     },
     "execution_count": 26,
     "metadata": {},
     "output_type": "execute_result"
    }
   ],
   "source": [
    "#random array of integers, or just one random integer\n",
    "np.random.randint(2,10,(2,2))  #start, end(exclusive), size-->optional"
   ]
  },
  {
   "cell_type": "code",
   "execution_count": 28,
   "id": "80d19554",
   "metadata": {},
   "outputs": [
    {
     "data": {
      "text/plain": [
       "array([0.37454012, 0.95071431, 0.73199394, 0.59865848])"
      ]
     },
     "execution_count": 28,
     "metadata": {},
     "output_type": "execute_result"
    }
   ],
   "source": [
    "#to match the random numbers, we use seed function\n",
    "np.random.seed(42)\n",
    "np.random.rand(4) #will always be the same as long as seed is the same"
   ]
  },
  {
   "cell_type": "code",
   "execution_count": 29,
   "id": "5aa6a699",
   "metadata": {},
   "outputs": [
    {
     "data": {
      "text/plain": [
       "array([[0., 0., 0.],\n",
       "       [0., 0., 0.]])"
      ]
     },
     "execution_count": 29,
     "metadata": {},
     "output_type": "execute_result"
    }
   ],
   "source": [
    "np_arr4"
   ]
  },
  {
   "cell_type": "code",
   "execution_count": 33,
   "id": "1f6ba211",
   "metadata": {},
   "outputs": [
    {
     "data": {
      "text/plain": [
       "array([[0., 0.],\n",
       "       [0., 0.],\n",
       "       [0., 0.]])"
      ]
     },
     "execution_count": 33,
     "metadata": {},
     "output_type": "execute_result"
    }
   ],
   "source": [
    "#reshape to change the shape of the array\n",
    "np_arr4.reshape(3,2)"
   ]
  },
  {
   "cell_type": "code",
   "execution_count": 38,
   "id": "d7aee6b7",
   "metadata": {},
   "outputs": [
    {
     "data": {
      "text/plain": [
       "array([[1, 2, 3],\n",
       "       [2, 3, 4]])"
      ]
     },
     "execution_count": 38,
     "metadata": {},
     "output_type": "execute_result"
    }
   ],
   "source": [
    "np_arr2"
   ]
  },
  {
   "cell_type": "code",
   "execution_count": 36,
   "id": "83a788ee",
   "metadata": {},
   "outputs": [
    {
     "data": {
      "text/plain": [
       "4"
      ]
     },
     "execution_count": 36,
     "metadata": {},
     "output_type": "execute_result"
    }
   ],
   "source": [
    "#min/max in the array\n",
    "np_arr2.max()  #max()"
   ]
  },
  {
   "cell_type": "code",
   "execution_count": 39,
   "id": "c087a924",
   "metadata": {},
   "outputs": [
    {
     "data": {
      "text/plain": [
       "5"
      ]
     },
     "execution_count": 39,
     "metadata": {},
     "output_type": "execute_result"
    }
   ],
   "source": [
    "#index of min/max\n",
    "np_arr2.argmax() #argmin()"
   ]
  },
  {
   "cell_type": "code",
   "execution_count": 43,
   "id": "2e464a8b",
   "metadata": {},
   "outputs": [
    {
     "data": {
      "text/plain": [
       "dtype('int32')"
      ]
     },
     "execution_count": 43,
     "metadata": {},
     "output_type": "execute_result"
    }
   ],
   "source": [
    "#datatype of data\n",
    "np_arr2.dtype  #attribute"
   ]
  },
  {
   "cell_type": "markdown",
   "id": "52d1009f",
   "metadata": {},
   "source": [
    "# Video 7"
   ]
  },
  {
   "cell_type": "code",
   "execution_count": 45,
   "id": "2d7796b0",
   "metadata": {},
   "outputs": [
    {
     "data": {
      "text/plain": [
       "array([ 3,  4,  5,  6,  7,  8,  9, 10, 11, 12, 13, 14, 15, 16, 17])"
      ]
     },
     "execution_count": 45,
     "metadata": {},
     "output_type": "execute_result"
    }
   ],
   "source": [
    "import numpy as np\n",
    "arr =np.arange(3,18)\n",
    "arr"
   ]
  },
  {
   "cell_type": "code",
   "execution_count": 47,
   "id": "f4e6ac99",
   "metadata": {},
   "outputs": [
    {
     "data": {
      "text/plain": [
       "6"
      ]
     },
     "execution_count": 47,
     "metadata": {},
     "output_type": "execute_result"
    }
   ],
   "source": [
    "#selecting one element --> index starts from 0\n",
    "arr[3]  #--Fourth element"
   ]
  },
  {
   "cell_type": "code",
   "execution_count": 50,
   "id": "eec0236c",
   "metadata": {},
   "outputs": [
    {
     "data": {
      "text/plain": [
       "array([ 7,  8,  9, 10])"
      ]
     },
     "execution_count": 50,
     "metadata": {},
     "output_type": "execute_result"
    }
   ],
   "source": [
    "#selecting a subset\n",
    "arr[3:]  #idx 3 to end\n",
    "arr[:7]  #idx start to 7\n",
    "arr[4:8] #idx 4 to 8"
   ]
  },
  {
   "cell_type": "markdown",
   "id": "0da9ac11",
   "metadata": {},
   "source": [
    "### Numpy Array Vs Python list"
   ]
  },
  {
   "cell_type": "code",
   "execution_count": 56,
   "id": "eab42d39",
   "metadata": {},
   "outputs": [
    {
     "data": {
      "text/plain": [
       "array([ 3,  4,  5,  2,  2,  2,  9, 10, 11, 12, 13, 14, 15, 16, 17])"
      ]
     },
     "execution_count": 56,
     "metadata": {},
     "output_type": "execute_result"
    }
   ],
   "source": [
    "#reassign using indexing\n",
    "arr[3:6] = 2\n",
    "arr"
   ]
  },
  {
   "cell_type": "code",
   "execution_count": 59,
   "id": "03474f46",
   "metadata": {},
   "outputs": [
    {
     "ename": "TypeError",
     "evalue": "can only assign an iterable",
     "output_type": "error",
     "traceback": [
      "\u001b[1;31m---------------------------------------------------------------------------\u001b[0m",
      "\u001b[1;31mTypeError\u001b[0m                                 Traceback (most recent call last)",
      "Input \u001b[1;32mIn [59]\u001b[0m, in \u001b[0;36m<cell line: 3>\u001b[1;34m()\u001b[0m\n\u001b[0;32m      1\u001b[0m \u001b[38;5;66;03m#doesnt work with python array\u001b[39;00m\n\u001b[0;32m      2\u001b[0m a \u001b[38;5;241m=\u001b[39m [\u001b[38;5;241m3\u001b[39m,  \u001b[38;5;241m4\u001b[39m,  \u001b[38;5;241m5\u001b[39m,  \u001b[38;5;241m6\u001b[39m,  \u001b[38;5;241m7\u001b[39m,  \u001b[38;5;241m8\u001b[39m,  \u001b[38;5;241m9\u001b[39m, \u001b[38;5;241m10\u001b[39m, \u001b[38;5;241m11\u001b[39m, \u001b[38;5;241m12\u001b[39m, \u001b[38;5;241m13\u001b[39m, \u001b[38;5;241m14\u001b[39m, \u001b[38;5;241m15\u001b[39m, \u001b[38;5;241m16\u001b[39m, \u001b[38;5;241m17\u001b[39m]\n\u001b[1;32m----> 3\u001b[0m a[\u001b[38;5;241m3\u001b[39m:\u001b[38;5;241m6\u001b[39m] \u001b[38;5;241m=\u001b[39m \u001b[38;5;241m2\u001b[39m\n\u001b[0;32m      4\u001b[0m a\n",
      "\u001b[1;31mTypeError\u001b[0m: can only assign an iterable"
     ]
    }
   ],
   "source": [
    "#doesnt work with python array\n",
    "a = [3,  4,  5,  6,  7,  8,  9, 10, 11, 12, 13, 14, 15, 16, 17]\n",
    "a[3:6] = 2\n",
    "a"
   ]
  },
  {
   "cell_type": "markdown",
   "id": "4c76446d",
   "metadata": {},
   "source": [
    "#### Slicing an array acts as a pointer to the array\n"
   ]
  },
  {
   "cell_type": "code",
   "execution_count": 66,
   "id": "cf12b57a",
   "metadata": {},
   "outputs": [],
   "source": [
    "new_arr = arr[3:6] "
   ]
  },
  {
   "cell_type": "code",
   "execution_count": 67,
   "id": "25d2fc32",
   "metadata": {},
   "outputs": [
    {
     "data": {
      "text/plain": [
       "array([2, 2, 2])"
      ]
     },
     "execution_count": 67,
     "metadata": {},
     "output_type": "execute_result"
    }
   ],
   "source": [
    "new_arr"
   ]
  },
  {
   "cell_type": "code",
   "execution_count": 68,
   "id": "df0131a1",
   "metadata": {},
   "outputs": [],
   "source": [
    "new_arr[:] = 4"
   ]
  },
  {
   "cell_type": "code",
   "execution_count": 69,
   "id": "b10b05ae",
   "metadata": {},
   "outputs": [
    {
     "data": {
      "text/plain": [
       "array([4, 4, 4])"
      ]
     },
     "execution_count": 69,
     "metadata": {},
     "output_type": "execute_result"
    }
   ],
   "source": [
    "new_arr   #new_arr changes as assigned"
   ]
  },
  {
   "cell_type": "code",
   "execution_count": 70,
   "id": "25ad2976",
   "metadata": {},
   "outputs": [
    {
     "data": {
      "text/plain": [
       "array([ 3,  4,  5,  4,  4,  4,  9, 10, 11, 12, 13, 14, 15, 16, 17])"
      ]
     },
     "execution_count": 70,
     "metadata": {},
     "output_type": "execute_result"
    }
   ],
   "source": [
    "arr  #original array too got modified"
   ]
  },
  {
   "cell_type": "markdown",
   "id": "cd010ca9",
   "metadata": {},
   "source": [
    "### slice of the array still points to the original array elements"
   ]
  },
  {
   "cell_type": "code",
   "execution_count": 73,
   "id": "f6de59c6",
   "metadata": {},
   "outputs": [
    {
     "data": {
      "text/plain": [
       "array([ 3,  4,  5,  4,  4,  4,  9, 10, 11, 12, 13, 14, 15, 16, 17])"
      ]
     },
     "execution_count": 73,
     "metadata": {},
     "output_type": "execute_result"
    }
   ],
   "source": [
    "arr_copy = arr.copy()\n",
    "arr_copy"
   ]
  },
  {
   "cell_type": "markdown",
   "id": "fce3137f",
   "metadata": {},
   "source": [
    "### 2D arrays"
   ]
  },
  {
   "cell_type": "code",
   "execution_count": 82,
   "id": "608888dc",
   "metadata": {},
   "outputs": [
    {
     "data": {
      "text/plain": [
       "(2, 4)"
      ]
     },
     "execution_count": 82,
     "metadata": {},
     "output_type": "execute_result"
    }
   ],
   "source": [
    "arr_2d = np.array([[1,2,3,4],[2,3,4,5]])\n",
    "arr_2d.shape"
   ]
  },
  {
   "cell_type": "code",
   "execution_count": 89,
   "id": "866b6ea2",
   "metadata": {},
   "outputs": [
    {
     "data": {
      "text/plain": [
       "array([[2, 3],\n",
       "       [3, 4]])"
      ]
     },
     "execution_count": 89,
     "metadata": {},
     "output_type": "execute_result"
    }
   ],
   "source": [
    "arr_2d[:,1:3]"
   ]
  },
  {
   "cell_type": "markdown",
   "id": "29949da5",
   "metadata": {},
   "source": [
    "### Conditional Slicing"
   ]
  },
  {
   "cell_type": "code",
   "execution_count": 91,
   "id": "1c04e089",
   "metadata": {},
   "outputs": [],
   "source": [
    " = arr_copy > 4 #True or False values"
   ]
  },
  {
   "cell_type": "code",
   "execution_count": 93,
   "id": "b03813c9",
   "metadata": {},
   "outputs": [
    {
     "data": {
      "text/plain": [
       "array([ 5,  9, 10, 11, 12, 13, 14, 15, 16, 17])"
      ]
     },
     "execution_count": 93,
     "metadata": {},
     "output_type": "execute_result"
    }
   ],
   "source": [
    "arr_copy[arr_copy > 4] # arr_copy[bool_arr] "
   ]
  },
  {
   "cell_type": "markdown",
   "id": "1f90ac6b",
   "metadata": {},
   "source": [
    "# Video 8"
   ]
  },
  {
   "cell_type": "code",
   "execution_count": 95,
   "id": "7324d9c2",
   "metadata": {},
   "outputs": [
    {
     "data": {
      "text/plain": [
       "array([0, 1, 2, 3, 4])"
      ]
     },
     "execution_count": 95,
     "metadata": {},
     "output_type": "execute_result"
    }
   ],
   "source": [
    "arr1 = np.arange(5)\n",
    "arr1"
   ]
  },
  {
   "cell_type": "code",
   "execution_count": 97,
   "id": "57ac4dcf",
   "metadata": {},
   "outputs": [
    {
     "data": {
      "text/plain": [
       "array([3, 4, 5, 6, 7])"
      ]
     },
     "execution_count": 97,
     "metadata": {},
     "output_type": "execute_result"
    }
   ],
   "source": [
    "arr1 + 3  #broadcast or element by element operation"
   ]
  },
  {
   "cell_type": "markdown",
   "id": "7af7a152",
   "metadata": {},
   "source": [
    "### .sum() , .max() , .var(), .std() #functions on array for variance, std deviation etc "
   ]
  },
  {
   "cell_type": "code",
   "execution_count": null,
   "id": "9c91b281",
   "metadata": {},
   "outputs": [],
   "source": []
  }
 ],
 "metadata": {
  "kernelspec": {
   "display_name": "Python 3 (ipykernel)",
   "language": "python",
   "name": "python3"
  },
  "language_info": {
   "codemirror_mode": {
    "name": "ipython",
    "version": 3
   },
   "file_extension": ".py",
   "mimetype": "text/x-python",
   "name": "python",
   "nbconvert_exporter": "python",
   "pygments_lexer": "ipython3",
   "version": "3.9.12"
  }
 },
 "nbformat": 4,
 "nbformat_minor": 5
}
